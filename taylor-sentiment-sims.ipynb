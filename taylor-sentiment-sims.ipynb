{
 "cells": [
  {
   "cell_type": "markdown",
   "metadata": {},
   "source": [
    "# A Taylor Influence Model"
   ]
  },
  {
   "cell_type": "markdown",
   "metadata": {},
   "source": [
    "Requirements:\n",
    "- Python 3.11.7"
   ]
  },
  {
   "cell_type": "code",
   "execution_count": 58,
   "metadata": {},
   "outputs": [],
   "source": [
    "from latex2sympy2 import latex2sympy\n",
    "import sympy as sym\n",
    "from sympy import *\n",
    "from sympy.parsing.mathematica import parse_mathematica\n",
    "from sympy import mathematica_code\n",
    "import numpy as np\n",
    "\n",
    "import scipy as sci\n",
    "from scipy.integrate import odeint\n",
    "import matplotlib.pyplot as plt \n",
    "import seaborn as sns"
   ]
  },
  {
   "cell_type": "code",
   "execution_count": 59,
   "metadata": {},
   "outputs": [],
   "source": [
    "def round_expr(expr, num_digits=3): # Rounds sympy expressions to 3 decimal places\n",
    "    return expr.xreplace({n : round(n, num_digits) for n in expr.atoms(Number)})"
   ]
  },
  {
   "cell_type": "markdown",
   "metadata": {},
   "source": [
    "## Model specifics"
   ]
  },
  {
   "cell_type": "markdown",
   "metadata": {},
   "source": [
    "We have (for $\\mathbf{x} = [x_{1} \\  x_{2} \\  x_{3} \\  x_{4} \\  x_{5}]^{\\intercal}$)\n",
    "\n",
    "$$\n",
    "\\dot{\\mathbf{x}} = \n",
    "    \\begin{bmatrix}\n",
    "        -.7 & .2 & 0 & .4 & 0 \\\\\n",
    "        .2 & -1.6 & .2 & 0 & .6 \\\\\n",
    "        .1 & .1 & -.3 & 0 & 0 \\\\\n",
    "        .6 & 0 & 0 & -1.6 & .4 \\\\\n",
    "        0 & .4 & 0 & .2 & -.7 \\\\\n",
    "    \\end{bmatrix}\n",
    "    \\mathbf{x} +\n",
    "    \\begin{bmatrix}\n",
    "    -.1 \\\\\n",
    "    .4 \\\\\n",
    "    .-1 \\\\\n",
    "    .4 \\\\\n",
    "    -.1\n",
    "    \\end{bmatrix},\n",
    "$$\n",
    "\n",
    "and since we are treating all states as exposed, ($\\mathbf{y} = [y_{1} \\  y_{2} \\  y_{3} \\  y_{4} \\  y_{5}]^{\\intercal} = \\mathbf{x}$):\n",
    "\n",
    "$$\n",
    "\\dot{\\mathbf{y}} = \n",
    "    \\begin{bmatrix}\n",
    "        -.7 & .2 & 0 & .4 & 0 \\\\\n",
    "        .2 & -1.6 & .2 & 0 & .6 \\\\\n",
    "        .1 & .1 & -.3 & 0 & 0 \\\\\n",
    "        .6 & 0 & 0 & -1.6 & .4 \\\\\n",
    "        0 & .4 & 0 & .2 & -.7 \\\\\n",
    "    \\end{bmatrix}\n",
    "    \\mathbf{y} +\n",
    "    \\begin{bmatrix}\n",
    "    -.1 \\\\\n",
    "    .4 \\\\\n",
    "    -.1 \\\\\n",
    "    .4 \\\\\n",
    "    -.1\n",
    "    \\end{bmatrix}.\n",
    "$$\n",
    "\n",
    "Initial conditions are $x_0 = [.5 \\ .5 \\ 0 \\ -.5 \\ -.5]^{\\intercal}$. This example specifies the existence of a _constant_ inhomogeneous term. A consequence is that what would traditionally be expressed as $B\\mathbf{u}(t)$ is constant. "
   ]
  },
  {
   "cell_type": "code",
   "execution_count": 60,
   "metadata": {},
   "outputs": [
    {
     "data": {
      "text/latex": [
       "$\\displaystyle \\left[\\begin{matrix}x_{0}\\\\x_{1}\\\\x_{2}\\\\x_{3}\\\\x_{4}\\end{matrix}\\right]$"
      ],
      "text/plain": [
       "Matrix([\n",
       "[x0],\n",
       "[x1],\n",
       "[x2],\n",
       "[x3],\n",
       "[x4]])"
      ]
     },
     "execution_count": 60,
     "metadata": {},
     "output_type": "execute_result"
    }
   ],
   "source": [
    "x0, x1, x2, x3, x4  = sym.symbols('x0, x1, x2, x3, x4')\n",
    "X = Matrix([x0, x1, x2, x3, x4])\n",
    "X"
   ]
  },
  {
   "cell_type": "code",
   "execution_count": 61,
   "metadata": {},
   "outputs": [
    {
     "data": {
      "text/latex": [
       "$\\displaystyle \\left[\\begin{matrix}0.5\\\\0.5\\\\0\\\\-0.5\\\\-0.5\\end{matrix}\\right]$"
      ],
      "text/plain": [
       "Matrix([\n",
       "[ 0.5],\n",
       "[ 0.5],\n",
       "[   0],\n",
       "[-0.5],\n",
       "[-0.5]])"
      ]
     },
     "execution_count": 61,
     "metadata": {},
     "output_type": "execute_result"
    }
   ],
   "source": [
    "X0_mat = Matrix([.5 , .5 , 0 , -.5, -.5])\n",
    "X0_mat"
   ]
  },
  {
   "cell_type": "code",
   "execution_count": 62,
   "metadata": {},
   "outputs": [
    {
     "data": {
      "text/latex": [
       "$\\displaystyle \\left[\\begin{matrix}- \\frac{7}{10} & \\frac{1}{5} & 0 & \\frac{2}{5} & 0\\\\\\frac{1}{5} & - \\frac{8}{5} & \\frac{1}{5} & 0 & \\frac{3}{5}\\\\\\frac{1}{10} & \\frac{1}{10} & - \\frac{3}{10} & 0 & 0\\\\\\frac{3}{5} & 0 & 0 & - \\frac{8}{5} & \\frac{2}{5}\\\\0 & \\frac{2}{5} & 0 & \\frac{1}{5} & - \\frac{7}{10}\\end{matrix}\\right]$"
      ],
      "text/plain": [
       "Matrix([\n",
       "[-7/10,  1/5,     0,  2/5,     0],\n",
       "[  1/5, -8/5,   1/5,    0,   3/5],\n",
       "[ 1/10, 1/10, -3/10,    0,     0],\n",
       "[  3/5,    0,     0, -8/5,   2/5],\n",
       "[    0,  2/5,     0,  1/5, -7/10]])"
      ]
     },
     "execution_count": 62,
     "metadata": {},
     "output_type": "execute_result"
    }
   ],
   "source": [
    "A_mat = latex2sympy(r'$\\displaystyle \\left[\\begin{matrix}-0.7 & 0.2 & 0 & 0.4 & 0\\\\0.2 & -1.6 & 0.2 & 0 & 0.6\\\\0.1 & 0.1 & -0.3 & 0 & 0\\\\0.6 & 0 & 0 & -1.6 & 0.4\\\\0 & 0.4 & 0 & 0.2 & -0.7\\end{matrix} ]$')\n",
    "A_mat"
   ]
  },
  {
   "cell_type": "code",
   "execution_count": 63,
   "metadata": {},
   "outputs": [
    {
     "data": {
      "text/latex": [
       "$\\displaystyle \\left[\\begin{matrix}-0.1\\\\0.4\\\\-0.1\\\\0.4\\\\-0.1\\end{matrix}\\right]$"
      ],
      "text/plain": [
       "Matrix([\n",
       "[-0.1],\n",
       "[ 0.4],\n",
       "[-0.1],\n",
       "[ 0.4],\n",
       "[-0.1]])"
      ]
     },
     "execution_count": 63,
     "metadata": {},
     "output_type": "execute_result"
    }
   ],
   "source": [
    "nonhom_mat = Matrix([-.1 , .4 , -.1 , .4 , -.1 ])\n",
    "nonhom_mat"
   ]
  },
  {
   "cell_type": "code",
   "execution_count": 64,
   "metadata": {},
   "outputs": [
    {
     "data": {
      "text/latex": [
       "$\\displaystyle \\left[\\begin{matrix}- \\frac{7 x_{0}}{10} + \\frac{x_{1}}{5} + \\frac{2 x_{3}}{5} - 0.1\\\\\\frac{x_{0}}{5} - \\frac{8 x_{1}}{5} + \\frac{x_{2}}{5} + \\frac{3 x_{4}}{5} + 0.4\\\\\\frac{x_{0}}{10} + \\frac{x_{1}}{10} - \\frac{3 x_{2}}{10} - 0.1\\\\\\frac{3 x_{0}}{5} - \\frac{8 x_{3}}{5} + \\frac{2 x_{4}}{5} + 0.4\\\\\\frac{2 x_{1}}{5} + \\frac{x_{3}}{5} - \\frac{7 x_{4}}{10} - 0.1\\end{matrix}\\right]$"
      ],
      "text/plain": [
       "Matrix([\n",
       "[     -7*x0/10 + x1/5 + 2*x3/5 - 0.1],\n",
       "[x0/5 - 8*x1/5 + x2/5 + 3*x4/5 + 0.4],\n",
       "[      x0/10 + x1/10 - 3*x2/10 - 0.1],\n",
       "[     3*x0/5 - 8*x3/5 + 2*x4/5 + 0.4],\n",
       "[      2*x1/5 + x3/5 - 7*x4/10 - 0.1]])"
      ]
     },
     "execution_count": 64,
     "metadata": {},
     "output_type": "execute_result"
    }
   ],
   "source": [
    "A_mat * X + nonhom_mat"
   ]
  },
  {
   "cell_type": "markdown",
   "metadata": {},
   "source": [
    "## Simulate the system and determine the equilibria"
   ]
  },
  {
   "cell_type": "code",
   "execution_count": 65,
   "metadata": {},
   "outputs": [],
   "source": [
    "A = np.array(A_mat).astype(np.float64)\n",
    "nonhom = np.array(nonhom_mat).astype(np.float64).squeeze()\n",
    "X0 = np.array( X0_mat).astype(np.float64).squeeze()\n",
    "\n",
    "def og_ode(x, t): \n",
    "    x_dot = np.matmul(A,x) + nonhom\n",
    "    return x_dot"
   ]
  },
  {
   "cell_type": "code",
   "execution_count": 66,
   "metadata": {},
   "outputs": [
    {
     "data": {
      "image/png": "[encoded data removed]",
      "text/plain": [
       "<Figure size 640x480 with 1 Axes>"
      ]
     },
     "metadata": {},
     "output_type": "display_data"
    }
   ],
   "source": [
    "ts = np.linspace(0, 100, 100) # time steps\n",
    "xs = odeint(og_ode, X0, ts)\n",
    "plt.plot(ts, (xs[:,0]), label = \"x_0\")\n",
    "plt.plot(ts, (xs[:,1]), label = \"x_1\")#, color='orange')\n",
    "plt.plot(ts, (xs[:,2]), label = \"x_2\")#, color='green')\n",
    "plt.plot(ts, (xs[:,3]), label = \"x_3\")#, color='orange')\n",
    "plt.plot(ts, (xs[:,4]), label = \"x_4\")#, color='green')\n",
    "\n",
    "plt.xlabel(\"time\")\n",
    "plt.legend()\n",
    "plt.title('Opinions over Time')\n",
    "plt.show()"
   ]
  },
  {
   "cell_type": "code",
   "execution_count": 67,
   "metadata": {},
   "outputs": [
    {
     "data": {
      "text/plain": [
       "array([ 0.12274025,  0.28211227, -0.19838249,  0.3237393 ,  0.11084681])"
      ]
     },
     "execution_count": 67,
     "metadata": {},
     "output_type": "execute_result"
    }
   ],
   "source": [
    "# Equilibrium\n",
    "xe = xs[-1].copy()\n",
    "xe"
   ]
  },
  {
   "cell_type": "code",
   "execution_count": 68,
   "metadata": {},
   "outputs": [
    {
     "data": {
      "text/latex": [
       "$\\displaystyle \\left[\\begin{matrix}1 & 0 & 0 & 0 & 0\\\\0 & 1 & 0 & 0 & 0\\\\0 & 0 & 1 & 0 & 0\\\\0 & 0 & 0 & 1 & 0\\\\0 & 0 & 0 & 0 & 1\\end{matrix}\\right]$"
      ],
      "text/plain": [
       "Matrix([\n",
       "[1, 0, 0, 0, 0],\n",
       "[0, 1, 0, 0, 0],\n",
       "[0, 0, 1, 0, 0],\n",
       "[0, 0, 0, 1, 0],\n",
       "[0, 0, 0, 0, 1]])"
      ]
     },
     "execution_count": 68,
     "metadata": {},
     "output_type": "execute_result"
    }
   ],
   "source": [
    "# Have to solve f(x,t) = 0 to get all equilibria in general\n",
    "# In our case x' = f(x,t) = f(x) = Ax + b, so if A is invertible, then 0  = Axe + b <--> xe = -A^{-1}b.\n",
    "A_mat_inv = A_mat**(-1)\n",
    "A_mat_inv*A_mat # Test"
   ]
  },
  {
   "cell_type": "code",
   "execution_count": 69,
   "metadata": {},
   "outputs": [
    {
     "data": {
      "text/latex": [
       "$\\displaystyle \\left[\\begin{matrix}3.66805891216515 \\cdot 10^{-11}\\\\3.18988169212275 \\cdot 10^{-11}\\\\8.09194655726486 \\cdot 10^{-11}\\\\2.45267695042628 \\cdot 10^{-11}\\\\3.94569654726951 \\cdot 10^{-11}\\end{matrix}\\right]$"
      ],
      "text/plain": [
       "Matrix([\n",
       "[3.66805891216515e-11],\n",
       "[3.18988169212275e-11],\n",
       "[8.09194655726486e-11],\n",
       "[2.45267695042628e-11],\n",
       "[3.94569654726951e-11]])"
      ]
     },
     "execution_count": 69,
     "metadata": {},
     "output_type": "execute_result"
    }
   ],
   "source": [
    "# Test, should evaluate to 0.\n",
    "-(A_mat_inv * nonhom_mat) - Matrix(xe)"
   ]
  },
  {
   "cell_type": "markdown",
   "metadata": {},
   "source": [
    "## Linearize around the equilibrium\n",
    "Recall that\n",
    "\n",
    "$x'(t) = f(x,t) = f(x) \\approx f(x_e)+ f'(x_e)(x-x_e)  =  0 + A(x-x_e)$\n",
    "\n",
    "In our case, $f(x) = A x + b $ with $A$ invertible and $x_e = -A^{-1}b$. It follows that $x' = f(x) =  A x + A (A^{-1} b) = A(x-x_e)$. In general, we take the Jacobian evaluated at our equilibrium point. In our case, the Jacobian is $A$ (a constant matrix). We proceed to check if the system is stable at its equilibrium. In this case, all eigenvalues ought to have negative real part."
   ]
  },
  {
   "cell_type": "code",
   "execution_count": 70,
   "metadata": {},
   "outputs": [
    {
     "data": {
      "text/plain": [
       "EigResult(eigenvalues=array([-2.01211813, -1.67394446, -0.62971864, -0.2143623 , -0.36985647]), eigenvectors=array([[-0.30382578,  0.16740997,  0.7543019 , -0.33850954,  0.44279704],\n",
       "       [ 0.56357666,  0.64792788, -0.21657153, -0.3177571 ,  0.09742839],\n",
       "       [-0.01517132, -0.05934285, -0.16308765, -0.76632916, -0.77333634],\n",
       "       [ 0.71484996, -0.73158398,  0.24081918, -0.25210393,  0.31675225],\n",
       "       [-0.2807679 , -0.1158735 , -0.54729695, -0.36554746,  0.30993128]]))"
      ]
     },
     "execution_count": 70,
     "metadata": {},
     "output_type": "execute_result"
    }
   ],
   "source": [
    "np.linalg.eig(A)"
   ]
  },
  {
   "cell_type": "markdown",
   "metadata": {},
   "source": [
    "## Translate the system around $x(0) = 0$\n",
    "We need to use the change of variables $\\tilde{x} = x-x_0$ so that our linearized model becomes: \n",
    "$$\n",
    "\\tilde{x}' = x' = A(x-x_e) = A(x-x_0 + x_0 - x_e) = A(\\tilde{x} + x_0-x_e) = A\\tilde{x} + Bu,\n",
    "$$\n",
    "where $Bu = A(x_0-x_e)$. However, we also know that $A x_e = A (-A^{-1} b) = -b$. Hence, $Bu = Ax_0 +b$. We proceed to set $B = I$ and $u =  Ax_0 +b$ for our DSF analysis. The decision to set $B = I$ is intentional. This is the system model as it appears to a potential malicious actor, not an artefact of the translation around $x_{e}$. Other choices of $B$ could equally have been made."
   ]
  },
  {
   "cell_type": "code",
   "execution_count": 71,
   "metadata": {},
   "outputs": [
    {
     "data": {
      "text/latex": [
       "$\\displaystyle \\left[\\begin{matrix}1 & 0 & 0 & 0 & 0\\\\0 & 1 & 0 & 0 & 0\\\\0 & 0 & 1 & 0 & 0\\\\0 & 0 & 0 & 1 & 0\\\\0 & 0 & 0 & 0 & 1\\end{matrix}\\right]$"
      ],
      "text/plain": [
       "Matrix([\n",
       "[1, 0, 0, 0, 0],\n",
       "[0, 1, 0, 0, 0],\n",
       "[0, 0, 1, 0, 0],\n",
       "[0, 0, 0, 1, 0],\n",
       "[0, 0, 0, 0, 1]])"
      ]
     },
     "execution_count": 71,
     "metadata": {},
     "output_type": "execute_result"
    }
   ],
   "source": [
    "B_mat = sym.eye(5)\n",
    "B_mat"
   ]
  },
  {
   "cell_type": "code",
   "execution_count": 72,
   "metadata": {},
   "outputs": [
    {
     "data": {
      "text/latex": [
       "$\\displaystyle \\left[\\begin{matrix}-0.55\\\\-0.6\\\\0\\\\1.3\\\\0.35\\end{matrix}\\right]$"
      ],
      "text/plain": [
       "Matrix([\n",
       "[-0.55],\n",
       "[ -0.6],\n",
       "[    0],\n",
       "[  1.3],\n",
       "[ 0.35]])"
      ]
     },
     "execution_count": 72,
     "metadata": {},
     "output_type": "execute_result"
    }
   ],
   "source": [
    "# In general, u(t). Here u is constant. \n",
    "u_mat = A_mat * X0_mat + nonhom_mat\n",
    "u_mat"
   ]
  },
  {
   "cell_type": "code",
   "execution_count": 73,
   "metadata": {},
   "outputs": [
    {
     "data": {
      "text/plain": [
       "array([-0.55, -0.6 ,  0.  ,  1.3 ,  0.35])"
      ]
     },
     "execution_count": 73,
     "metadata": {},
     "output_type": "execute_result"
    }
   ],
   "source": [
    "u = np.array(u_mat).astype(np.float64).squeeze() \n",
    "u"
   ]
  },
  {
   "cell_type": "markdown",
   "metadata": {},
   "source": [
    "## Transfer function\n",
    "We have $A$ and $B$. We assumed that $C = I,  D= 0$, so we accordingly know that $y = x$.\n"
   ]
  },
  {
   "cell_type": "code",
   "execution_count": 74,
   "metadata": {},
   "outputs": [],
   "source": [
    "C_mat = B_mat.copy() "
   ]
  },
  {
   "cell_type": "markdown",
   "metadata": {},
   "source": [
    "In general we have \n",
    "\\begin{align*}\n",
    "&\\text{(transfer function in $X$)} &G_x(s) &= (sI-A)^{-1}B \\\\\n",
    "&\\text{(transfer function in $Y$)} &G_y(s) &= C(sI-A)^{-1}B + D\n",
    "\\end{align*}\n",
    "In our case these are identical: simply $(sI-A)^{-1}$."
   ]
  },
  {
   "cell_type": "code",
   "execution_count": 75,
   "metadata": {},
   "outputs": [
    {
     "data": {
      "text/latex": [
       "$\\displaystyle \\left[\\begin{matrix}\\frac{10 \\cdot \\left(2500 s^{4} + 10500 s^{3} + 14075 s^{2} + 6445 s + 908\\right)}{25000 s^{5} + 122500 s^{4} + 207250 s^{3} + 144675 s^{2} + 42255 s + 4204} & \\frac{10 \\cdot \\left(500 s^{3} + 1300 s^{2} + 1025 s + 204\\right)}{25000 s^{5} + 122500 s^{4} + 207250 s^{3} + 144675 s^{2} + 42255 s + 4204} & \\frac{20 \\cdot \\left(50 s^{2} + 115 s + 68\\right)}{25000 s^{5} + 122500 s^{4} + 207250 s^{3} + 144675 s^{2} + 42255 s + 4204} & \\frac{20 \\cdot \\left(500 s^{3} + 1300 s^{2} + 805 s + 134\\right)}{25000 s^{5} + 122500 s^{4} + 207250 s^{3} + 144675 s^{2} + 42255 s + 4204} & \\frac{20 \\cdot \\left(350 s^{2} + 665 s + 164\\right)}{25000 s^{5} + 122500 s^{4} + 207250 s^{3} + 144675 s^{2} + 42255 s + 4204}\\\\\\frac{20 \\cdot \\left(250 s^{3} + 675 s^{2} + 580 s + 131\\right)}{25000 s^{5} + 122500 s^{4} + 207250 s^{3} + 144675 s^{2} + 42255 s + 4204} & \\frac{25 \\cdot \\left(1000 s^{4} + 3300 s^{3} + 3310 s^{2} + 1283 s + 168\\right)}{25000 s^{5} + 122500 s^{4} + 207250 s^{3} + 144675 s^{2} + 42255 s + 4204} & \\frac{50 \\cdot \\left(100 s^{3} + 300 s^{2} + 241 s + 56\\right)}{25000 s^{5} + 122500 s^{4} + 207250 s^{3} + 144675 s^{2} + 42255 s + 4204} & \\frac{10 \\cdot \\left(500 s^{2} + 520 s + 119\\right)}{25000 s^{5} + 122500 s^{4} + 207250 s^{3} + 144675 s^{2} + 42255 s + 4204} & \\frac{10 \\cdot \\left(1500 s^{3} + 3900 s^{2} + 2435 s + 428\\right)}{25000 s^{5} + 122500 s^{4} + 207250 s^{3} + 144675 s^{2} + 42255 s + 4204}\\\\\\frac{50 \\cdot \\left(50 s^{3} + 205 s^{2} + 247 s + 78\\right)}{25000 s^{5} + 122500 s^{4} + 207250 s^{3} + 144675 s^{2} + 42255 s + 4204} & \\frac{5 \\cdot \\left(500 s^{3} + 1600 s^{2} + 1435 s + 416\\right)}{25000 s^{5} + 122500 s^{4} + 207250 s^{3} + 144675 s^{2} + 42255 s + 4204} & \\frac{50 \\cdot \\left(500 s^{4} + 2300 s^{3} + 3465 s^{2} + 1886 s + 308\\right)}{25000 s^{5} + 122500 s^{4} + 207250 s^{3} + 144675 s^{2} + 42255 s + 4204} & \\frac{10 \\cdot \\left(100 s^{2} + 280 s + 129\\right)}{25000 s^{5} + 122500 s^{4} + 207250 s^{3} + 144675 s^{2} + 42255 s + 4204} & \\frac{10 \\cdot \\left(150 s^{2} + 415 s + 252\\right)}{25000 s^{5} + 122500 s^{4} + 207250 s^{3} + 144675 s^{2} + 42255 s + 4204}\\\\\\frac{10 \\cdot \\left(1500 s^{3} + 3900 s^{2} + 2405 s + 407\\right)}{25000 s^{5} + 122500 s^{4} + 207250 s^{3} + 144675 s^{2} + 42255 s + 4204} & \\frac{70 \\cdot \\left(100 s^{2} + 100 s + 21\\right)}{25000 s^{5} + 122500 s^{4} + 207250 s^{3} + 144675 s^{2} + 42255 s + 4204} & \\frac{140 \\cdot \\left(10 s + 7\\right)}{25000 s^{5} + 122500 s^{4} + 207250 s^{3} + 144675 s^{2} + 42255 s + 4204} & \\frac{5 \\cdot \\left(5000 s^{4} + 16500 s^{3} + 16650 s^{2} + 6455 s + 819\\right)}{25000 s^{5} + 122500 s^{4} + 207250 s^{3} + 144675 s^{2} + 42255 s + 4204} & \\frac{100 \\cdot \\left(100 s^{3} + 260 s^{2} + 193 s + 36\\right)}{25000 s^{5} + 122500 s^{4} + 207250 s^{3} + 144675 s^{2} + 42255 s + 4204}\\\\\\frac{20 \\cdot \\left(250 s^{2} + 485 s + 133\\right)}{25000 s^{5} + 122500 s^{4} + 207250 s^{3} + 144675 s^{2} + 42255 s + 4204} & \\frac{20 \\cdot \\left(500 s^{3} + 1300 s^{2} + 815 s + 141\\right)}{25000 s^{5} + 122500 s^{4} + 207250 s^{3} + 144675 s^{2} + 42255 s + 4204} & \\frac{40 \\cdot \\left(50 s^{2} + 115 s + 47\\right)}{25000 s^{5} + 122500 s^{4} + 207250 s^{3} + 144675 s^{2} + 42255 s + 4204} & \\frac{50 \\cdot \\left(100 s^{3} + 260 s^{2} + 191 s + 37\\right)}{25000 s^{5} + 122500 s^{4} + 207250 s^{3} + 144675 s^{2} + 42255 s + 4204} & \\frac{10 \\cdot \\left(2500 s^{4} + 10500 s^{3} + 14175 s^{2} + 6625 s + 948\\right)}{25000 s^{5} + 122500 s^{4} + 207250 s^{3} + 144675 s^{2} + 42255 s + 4204}\\end{matrix}\\right]$"
      ],
      "text/plain": [
       "Matrix([\n",
       "[10*(2500*s**4 + 10500*s**3 + 14075*s**2 + 6445*s + 908)/(25000*s**5 + 122500*s**4 + 207250*s**3 + 144675*s**2 + 42255*s + 4204),              10*(500*s**3 + 1300*s**2 + 1025*s + 204)/(25000*s**5 + 122500*s**4 + 207250*s**3 + 144675*s**2 + 42255*s + 4204),                            20*(50*s**2 + 115*s + 68)/(25000*s**5 + 122500*s**4 + 207250*s**3 + 144675*s**2 + 42255*s + 4204),                20*(500*s**3 + 1300*s**2 + 805*s + 134)/(25000*s**5 + 122500*s**4 + 207250*s**3 + 144675*s**2 + 42255*s + 4204),                             20*(350*s**2 + 665*s + 164)/(25000*s**5 + 122500*s**4 + 207250*s**3 + 144675*s**2 + 42255*s + 4204)],\n",
       "[                 20*(250*s**3 + 675*s**2 + 580*s + 131)/(25000*s**5 + 122500*s**4 + 207250*s**3 + 144675*s**2 + 42255*s + 4204), 25*(1000*s**4 + 3300*s**3 + 3310*s**2 + 1283*s + 168)/(25000*s**5 + 122500*s**4 + 207250*s**3 + 144675*s**2 + 42255*s + 4204),                50*(100*s**3 + 300*s**2 + 241*s + 56)/(25000*s**5 + 122500*s**4 + 207250*s**3 + 144675*s**2 + 42255*s + 4204),                            10*(500*s**2 + 520*s + 119)/(25000*s**5 + 122500*s**4 + 207250*s**3 + 144675*s**2 + 42255*s + 4204),               10*(1500*s**3 + 3900*s**2 + 2435*s + 428)/(25000*s**5 + 122500*s**4 + 207250*s**3 + 144675*s**2 + 42255*s + 4204)],\n",
       "[                   50*(50*s**3 + 205*s**2 + 247*s + 78)/(25000*s**5 + 122500*s**4 + 207250*s**3 + 144675*s**2 + 42255*s + 4204),               5*(500*s**3 + 1600*s**2 + 1435*s + 416)/(25000*s**5 + 122500*s**4 + 207250*s**3 + 144675*s**2 + 42255*s + 4204), 50*(500*s**4 + 2300*s**3 + 3465*s**2 + 1886*s + 308)/(25000*s**5 + 122500*s**4 + 207250*s**3 + 144675*s**2 + 42255*s + 4204),                            10*(100*s**2 + 280*s + 129)/(25000*s**5 + 122500*s**4 + 207250*s**3 + 144675*s**2 + 42255*s + 4204),                             10*(150*s**2 + 415*s + 252)/(25000*s**5 + 122500*s**4 + 207250*s**3 + 144675*s**2 + 42255*s + 4204)],\n",
       "[              10*(1500*s**3 + 3900*s**2 + 2405*s + 407)/(25000*s**5 + 122500*s**4 + 207250*s**3 + 144675*s**2 + 42255*s + 4204),                            70*(100*s**2 + 100*s + 21)/(25000*s**5 + 122500*s**4 + 207250*s**3 + 144675*s**2 + 42255*s + 4204),                                       140*(10*s + 7)/(25000*s**5 + 122500*s**4 + 207250*s**3 + 144675*s**2 + 42255*s + 4204), 5*(5000*s**4 + 16500*s**3 + 16650*s**2 + 6455*s + 819)/(25000*s**5 + 122500*s**4 + 207250*s**3 + 144675*s**2 + 42255*s + 4204),                  100*(100*s**3 + 260*s**2 + 193*s + 36)/(25000*s**5 + 122500*s**4 + 207250*s**3 + 144675*s**2 + 42255*s + 4204)],\n",
       "[                            20*(250*s**2 + 485*s + 133)/(25000*s**5 + 122500*s**4 + 207250*s**3 + 144675*s**2 + 42255*s + 4204),               20*(500*s**3 + 1300*s**2 + 815*s + 141)/(25000*s**5 + 122500*s**4 + 207250*s**3 + 144675*s**2 + 42255*s + 4204),                            40*(50*s**2 + 115*s + 47)/(25000*s**5 + 122500*s**4 + 207250*s**3 + 144675*s**2 + 42255*s + 4204),                  50*(100*s**3 + 260*s**2 + 191*s + 37)/(25000*s**5 + 122500*s**4 + 207250*s**3 + 144675*s**2 + 42255*s + 4204), 10*(2500*s**4 + 10500*s**3 + 14175*s**2 + 6625*s + 948)/(25000*s**5 + 122500*s**4 + 207250*s**3 + 144675*s**2 + 42255*s + 4204)]])"
      ]
     },
     "execution_count": 75,
     "metadata": {},
     "output_type": "execute_result"
    }
   ],
   "source": [
    "s = symbols('s')\n",
    "G_mat = simplify( (s * sym.eye(5)-A_mat)**(-1) )\n",
    "G_mat"
   ]
  },
  {
   "cell_type": "markdown",
   "metadata": {},
   "source": [
    "## Dynamical structure function\n",
    "Because $y=x$ and $B = I$, we get that\n",
    "$$\n",
    "Q = (sI-\\text{diag}(A))^{-1}*(A-\\text{diag}(A))\n",
    "$$\n",
    "where $P = (sI\\text{diag}(A))^{-1}$."
   ]
  },
  {
   "cell_type": "code",
   "execution_count": 76,
   "metadata": {},
   "outputs": [
    {
     "data": {
      "text/latex": [
       "$\\displaystyle \\left[\\begin{matrix}- \\frac{7}{10} & 0 & 0 & 0 & 0\\\\0 & - \\frac{8}{5} & 0 & 0 & 0\\\\0 & 0 & - \\frac{3}{10} & 0 & 0\\\\0 & 0 & 0 & - \\frac{8}{5} & 0\\\\0 & 0 & 0 & 0 & - \\frac{7}{10}\\end{matrix}\\right]$"
      ],
      "text/plain": [
       "Matrix([\n",
       "[-7/10,    0,     0,    0,     0],\n",
       "[    0, -8/5,     0,    0,     0],\n",
       "[    0,    0, -3/10,    0,     0],\n",
       "[    0,    0,     0, -8/5,     0],\n",
       "[    0,    0,     0,    0, -7/10]])"
      ]
     },
     "execution_count": 76,
     "metadata": {},
     "output_type": "execute_result"
    }
   ],
   "source": [
    "# Diagonal of A\n",
    "D_mat = diag(*[A_mat[i,i] for i in range(A_mat.shape[0])])\n",
    "D_mat"
   ]
  },
  {
   "cell_type": "code",
   "execution_count": 77,
   "metadata": {},
   "outputs": [
    {
     "data": {
      "text/latex": [
       "$\\displaystyle \\left[\\begin{matrix}s + \\frac{7}{10} & 0 & 0 & 0 & 0\\\\0 & s + \\frac{8}{5} & 0 & 0 & 0\\\\0 & 0 & s + \\frac{3}{10} & 0 & 0\\\\0 & 0 & 0 & s + \\frac{8}{5} & 0\\\\0 & 0 & 0 & 0 & s + \\frac{7}{10}\\end{matrix}\\right]$"
      ],
      "text/plain": [
       "Matrix([\n",
       "[s + 7/10,       0,        0,       0,        0],\n",
       "[       0, s + 8/5,        0,       0,        0],\n",
       "[       0,       0, s + 3/10,       0,        0],\n",
       "[       0,       0,        0, s + 8/5,        0],\n",
       "[       0,       0,        0,       0, s + 7/10]])"
      ]
     },
     "execution_count": 77,
     "metadata": {},
     "output_type": "execute_result"
    }
   ],
   "source": [
    "lhs = s * sym.eye(5)-D_mat\n",
    "rhs = A_mat - D_mat\n",
    "lhs"
   ]
  },
  {
   "cell_type": "code",
   "execution_count": 78,
   "metadata": {},
   "outputs": [
    {
     "data": {
      "text/latex": [
       "$\\displaystyle \\left[\\begin{matrix}0 & \\frac{1}{5} & 0 & \\frac{2}{5} & 0\\\\\\frac{1}{5} & 0 & \\frac{1}{5} & 0 & \\frac{3}{5}\\\\\\frac{1}{10} & \\frac{1}{10} & 0 & 0 & 0\\\\\\frac{3}{5} & 0 & 0 & 0 & \\frac{2}{5}\\\\0 & \\frac{2}{5} & 0 & \\frac{1}{5} & 0\\end{matrix}\\right]$"
      ],
      "text/plain": [
       "Matrix([\n",
       "[   0,  1/5,   0, 2/5,   0],\n",
       "[ 1/5,    0, 1/5,   0, 3/5],\n",
       "[1/10, 1/10,   0,   0,   0],\n",
       "[ 3/5,    0,   0,   0, 2/5],\n",
       "[   0,  2/5,   0, 1/5,   0]])"
      ]
     },
     "execution_count": 78,
     "metadata": {},
     "output_type": "execute_result"
    }
   ],
   "source": [
    "rhs"
   ]
  },
  {
   "cell_type": "code",
   "execution_count": 79,
   "metadata": {},
   "outputs": [
    {
     "data": {
      "text/latex": [
       "$\\displaystyle \\left[\\begin{matrix}0 & \\frac{1}{5 \\left(s + \\frac{7}{10}\\right)} & 0 & \\frac{2}{5 \\left(s + \\frac{7}{10}\\right)} & 0\\\\\\frac{1}{5 \\left(s + \\frac{8}{5}\\right)} & 0 & \\frac{1}{5 \\left(s + \\frac{8}{5}\\right)} & 0 & \\frac{3}{5 \\left(s + \\frac{8}{5}\\right)}\\\\\\frac{1}{10 \\left(s + \\frac{3}{10}\\right)} & \\frac{1}{10 \\left(s + \\frac{3}{10}\\right)} & 0 & 0 & 0\\\\\\frac{3}{5 \\left(s + \\frac{8}{5}\\right)} & 0 & 0 & 0 & \\frac{2}{5 \\left(s + \\frac{8}{5}\\right)}\\\\0 & \\frac{2}{5 \\left(s + \\frac{7}{10}\\right)} & 0 & \\frac{1}{5 \\left(s + \\frac{7}{10}\\right)} & 0\\end{matrix}\\right]$"
      ],
      "text/plain": [
       "Matrix([\n",
       "[                0,  1/(5*(s + 7/10)),               0, 2/(5*(s + 7/10)),               0],\n",
       "[  1/(5*(s + 8/5)),                 0, 1/(5*(s + 8/5)),                0, 3/(5*(s + 8/5))],\n",
       "[1/(10*(s + 3/10)), 1/(10*(s + 3/10)),               0,                0,               0],\n",
       "[  3/(5*(s + 8/5)),                 0,               0,                0, 2/(5*(s + 8/5))],\n",
       "[                0,  2/(5*(s + 7/10)),               0, 1/(5*(s + 7/10)),               0]])"
      ]
     },
     "execution_count": 79,
     "metadata": {},
     "output_type": "execute_result"
    }
   ],
   "source": [
    "Q_mat = (lhs**(-1))*rhs\n",
    "Q_mat # Q ought to be a hollow matrix"
   ]
  },
  {
   "cell_type": "code",
   "execution_count": 80,
   "metadata": {},
   "outputs": [
    {
     "data": {
      "text/latex": [
       "$\\displaystyle \\left[\\begin{matrix}\\frac{1}{s + \\frac{7}{10}} & 0 & 0 & 0 & 0\\\\0 & \\frac{1}{s + \\frac{8}{5}} & 0 & 0 & 0\\\\0 & 0 & \\frac{1}{s + \\frac{3}{10}} & 0 & 0\\\\0 & 0 & 0 & \\frac{1}{s + \\frac{8}{5}} & 0\\\\0 & 0 & 0 & 0 & \\frac{1}{s + \\frac{7}{10}}\\end{matrix}\\right]$"
      ],
      "text/plain": [
       "Matrix([\n",
       "[1/(s + 7/10),           0,            0,           0,            0],\n",
       "[           0, 1/(s + 8/5),            0,           0,            0],\n",
       "[           0,           0, 1/(s + 3/10),           0,            0],\n",
       "[           0,           0,            0, 1/(s + 8/5),            0],\n",
       "[           0,           0,            0,           0, 1/(s + 7/10)]])"
      ]
     },
     "execution_count": 80,
     "metadata": {},
     "output_type": "execute_result"
    }
   ],
   "source": [
    "P_mat = (lhs**(-1))*B_mat\n",
    "P_mat"
   ]
  },
  {
   "cell_type": "markdown",
   "metadata": {},
   "source": [
    "Now we seek the matrix $H = (I-Q)^{-1}$:"
   ]
  },
  {
   "cell_type": "code",
   "execution_count": 81,
   "metadata": {},
   "outputs": [
    {
     "data": {
      "text/latex": [
       "$\\displaystyle \\left[\\begin{matrix}1 & - \\frac{1}{5 \\left(s + \\frac{7}{10}\\right)} & 0 & - \\frac{2}{5 \\left(s + \\frac{7}{10}\\right)} & 0\\\\- \\frac{1}{5 \\left(s + \\frac{8}{5}\\right)} & 1 & - \\frac{1}{5 \\left(s + \\frac{8}{5}\\right)} & 0 & - \\frac{3}{5 \\left(s + \\frac{8}{5}\\right)}\\\\- \\frac{1}{10 \\left(s + \\frac{3}{10}\\right)} & - \\frac{1}{10 \\left(s + \\frac{3}{10}\\right)} & 1 & 0 & 0\\\\- \\frac{3}{5 \\left(s + \\frac{8}{5}\\right)} & 0 & 0 & 1 & - \\frac{2}{5 \\left(s + \\frac{8}{5}\\right)}\\\\0 & - \\frac{2}{5 \\left(s + \\frac{7}{10}\\right)} & 0 & - \\frac{1}{5 \\left(s + \\frac{7}{10}\\right)} & 1\\end{matrix}\\right]$"
      ],
      "text/plain": [
       "Matrix([\n",
       "[                 1,  -1/(5*(s + 7/10)),                0, -2/(5*(s + 7/10)),                0],\n",
       "[  -1/(5*(s + 8/5)),                  1, -1/(5*(s + 8/5)),                 0, -3/(5*(s + 8/5))],\n",
       "[-1/(10*(s + 3/10)), -1/(10*(s + 3/10)),                1,                 0,                0],\n",
       "[  -3/(5*(s + 8/5)),                  0,                0,                 1, -2/(5*(s + 8/5))],\n",
       "[                 0,  -2/(5*(s + 7/10)),                0, -1/(5*(s + 7/10)),                1]])"
      ]
     },
     "execution_count": 81,
     "metadata": {},
     "output_type": "execute_result"
    }
   ],
   "source": [
    "sym.eye(5)-Q_mat"
   ]
  },
  {
   "cell_type": "code",
   "execution_count": 82,
   "metadata": {},
   "outputs": [
    {
     "data": {
      "text/latex": [
       "$\\displaystyle \\left[\\begin{matrix}\\frac{25000 s^{5} + 122500 s^{4} + 214250 s^{3} + 162975 s^{2} + 54195 s + 6356}{25000 s^{5} + 122500 s^{4} + 207250 s^{3} + 144675 s^{2} + 42255 s + 4204} & \\frac{2 \\cdot \\left(2500 s^{4} + 10500 s^{3} + 15525 s^{2} + 9220 s + 1632\\right)}{25000 s^{5} + 122500 s^{4} + 207250 s^{3} + 144675 s^{2} + 42255 s + 4204} & \\frac{2 \\cdot \\left(500 s^{3} + 1300 s^{2} + 1025 s + 204\\right)}{25000 s^{5} + 122500 s^{4} + 207250 s^{3} + 144675 s^{2} + 42255 s + 4204} & \\frac{4 \\cdot \\left(2500 s^{4} + 10500 s^{3} + 14425 s^{2} + 7110 s + 1072\\right)}{25000 s^{5} + 122500 s^{4} + 207250 s^{3} + 144675 s^{2} + 42255 s + 4204} & \\frac{2 \\cdot \\left(3500 s^{3} + 9100 s^{2} + 6295 s + 1148\\right)}{25000 s^{5} + 122500 s^{4} + 207250 s^{3} + 144675 s^{2} + 42255 s + 4204}\\\\\\frac{2 \\cdot \\left(2500 s^{4} + 8500 s^{3} + 10525 s^{2} + 5370 s + 917\\right)}{25000 s^{5} + 122500 s^{4} + 207250 s^{3} + 144675 s^{2} + 42255 s + 4204} & \\frac{5 \\cdot \\left(5000 s^{5} + 24500 s^{4} + 42950 s^{3} + 32895 s^{2} + 11104 s + 1344\\right)}{25000 s^{5} + 122500 s^{4} + 207250 s^{3} + 144675 s^{2} + 42255 s + 4204} & \\frac{5 \\cdot \\left(1000 s^{4} + 3300 s^{3} + 3310 s^{2} + 1283 s + 168\\right)}{25000 s^{5} + 122500 s^{4} + 207250 s^{3} + 144675 s^{2} + 42255 s + 4204} & \\frac{2 \\cdot \\left(2500 s^{3} + 6600 s^{2} + 4755 s + 952\\right)}{25000 s^{5} + 122500 s^{4} + 207250 s^{3} + 144675 s^{2} + 42255 s + 4204} & \\frac{15000 s^{4} + 49500 s^{3} + 51650 s^{2} + 21325 s + 2996}{25000 s^{5} + 122500 s^{4} + 207250 s^{3} + 144675 s^{2} + 42255 s + 4204}\\\\\\frac{5 \\cdot \\left(500 s^{4} + 2400 s^{3} + 3905 s^{2} + 2509 s + 546\\right)}{25000 s^{5} + 122500 s^{4} + 207250 s^{3} + 144675 s^{2} + 42255 s + 4204} & \\frac{2500 s^{4} + 12000 s^{3} + 19975 s^{2} + 13560 s + 3328}{25000 s^{5} + 122500 s^{4} + 207250 s^{3} + 144675 s^{2} + 42255 s + 4204} & \\frac{5 \\cdot \\left(5000 s^{5} + 24500 s^{4} + 41550 s^{3} + 29255 s^{2} + 8738 s + 924\\right)}{25000 s^{5} + 122500 s^{4} + 207250 s^{3} + 144675 s^{2} + 42255 s + 4204} & \\frac{2 \\cdot \\left(500 s^{3} + 2200 s^{2} + 2885 s + 1032\\right)}{25000 s^{5} + 122500 s^{4} + 207250 s^{3} + 144675 s^{2} + 42255 s + 4204} & \\frac{1500 s^{3} + 5200 s^{2} + 5425 s + 1764}{25000 s^{5} + 122500 s^{4} + 207250 s^{3} + 144675 s^{2} + 42255 s + 4204}\\\\\\frac{15000 s^{4} + 49500 s^{3} + 51350 s^{2} + 20905 s + 2849}{25000 s^{5} + 122500 s^{4} + 207250 s^{3} + 144675 s^{2} + 42255 s + 4204} & \\frac{14 \\cdot \\left(500 s^{3} + 1300 s^{2} + 905 s + 168\\right)}{25000 s^{5} + 122500 s^{4} + 207250 s^{3} + 144675 s^{2} + 42255 s + 4204} & \\frac{14 \\cdot \\left(100 s^{2} + 100 s + 21\\right)}{25000 s^{5} + 122500 s^{4} + 207250 s^{3} + 144675 s^{2} + 42255 s + 4204} & \\frac{25000 s^{5} + 122500 s^{4} + 215250 s^{3} + 165475 s^{2} + 55735 s + 6552}{25000 s^{5} + 122500 s^{4} + 207250 s^{3} + 144675 s^{2} + 42255 s + 4204} & \\frac{10 \\cdot \\left(1000 s^{4} + 3300 s^{3} + 3750 s^{2} + 1711 s + 252\\right)}{25000 s^{5} + 122500 s^{4} + 207250 s^{3} + 144675 s^{2} + 42255 s + 4204}\\\\\\frac{2 \\cdot \\left(2500 s^{3} + 6600 s^{2} + 4725 s + 931\\right)}{25000 s^{5} + 122500 s^{4} + 207250 s^{3} + 144675 s^{2} + 42255 s + 4204} & \\frac{4 \\cdot \\left(2500 s^{4} + 10500 s^{3} + 14475 s^{2} + 7225 s + 1128\\right)}{25000 s^{5} + 122500 s^{4} + 207250 s^{3} + 144675 s^{2} + 42255 s + 4204} & \\frac{4 \\cdot \\left(500 s^{3} + 1300 s^{2} + 815 s + 141\\right)}{25000 s^{5} + 122500 s^{4} + 207250 s^{3} + 144675 s^{2} + 42255 s + 4204} & \\frac{10 \\cdot \\left(500 s^{4} + 2100 s^{3} + 3035 s^{2} + 1713 s + 296\\right)}{25000 s^{5} + 122500 s^{4} + 207250 s^{3} + 144675 s^{2} + 42255 s + 4204} & \\frac{25000 s^{5} + 122500 s^{4} + 215250 s^{3} + 165475 s^{2} + 55855 s + 6636}{25000 s^{5} + 122500 s^{4} + 207250 s^{3} + 144675 s^{2} + 42255 s + 4204}\\end{matrix}\\right]$"
      ],
      "text/plain": [
       "Matrix([\n",
       "[(25000*s**5 + 122500*s**4 + 214250*s**3 + 162975*s**2 + 54195*s + 6356)/(25000*s**5 + 122500*s**4 + 207250*s**3 + 144675*s**2 + 42255*s + 4204),               2*(2500*s**4 + 10500*s**3 + 15525*s**2 + 9220*s + 1632)/(25000*s**5 + 122500*s**4 + 207250*s**3 + 144675*s**2 + 42255*s + 4204),                             2*(500*s**3 + 1300*s**2 + 1025*s + 204)/(25000*s**5 + 122500*s**4 + 207250*s**3 + 144675*s**2 + 42255*s + 4204),                 4*(2500*s**4 + 10500*s**3 + 14425*s**2 + 7110*s + 1072)/(25000*s**5 + 122500*s**4 + 207250*s**3 + 144675*s**2 + 42255*s + 4204),                               2*(3500*s**3 + 9100*s**2 + 6295*s + 1148)/(25000*s**5 + 122500*s**4 + 207250*s**3 + 144675*s**2 + 42255*s + 4204)],\n",
       "[                  2*(2500*s**4 + 8500*s**3 + 10525*s**2 + 5370*s + 917)/(25000*s**5 + 122500*s**4 + 207250*s**3 + 144675*s**2 + 42255*s + 4204), 5*(5000*s**5 + 24500*s**4 + 42950*s**3 + 32895*s**2 + 11104*s + 1344)/(25000*s**5 + 122500*s**4 + 207250*s**3 + 144675*s**2 + 42255*s + 4204),                5*(1000*s**4 + 3300*s**3 + 3310*s**2 + 1283*s + 168)/(25000*s**5 + 122500*s**4 + 207250*s**3 + 144675*s**2 + 42255*s + 4204),                                2*(2500*s**3 + 6600*s**2 + 4755*s + 952)/(25000*s**5 + 122500*s**4 + 207250*s**3 + 144675*s**2 + 42255*s + 4204),                 (15000*s**4 + 49500*s**3 + 51650*s**2 + 21325*s + 2996)/(25000*s**5 + 122500*s**4 + 207250*s**3 + 144675*s**2 + 42255*s + 4204)],\n",
       "[                    5*(500*s**4 + 2400*s**3 + 3905*s**2 + 2509*s + 546)/(25000*s**5 + 122500*s**4 + 207250*s**3 + 144675*s**2 + 42255*s + 4204),                (2500*s**4 + 12000*s**3 + 19975*s**2 + 13560*s + 3328)/(25000*s**5 + 122500*s**4 + 207250*s**3 + 144675*s**2 + 42255*s + 4204), 5*(5000*s**5 + 24500*s**4 + 41550*s**3 + 29255*s**2 + 8738*s + 924)/(25000*s**5 + 122500*s**4 + 207250*s**3 + 144675*s**2 + 42255*s + 4204),                                2*(500*s**3 + 2200*s**2 + 2885*s + 1032)/(25000*s**5 + 122500*s**4 + 207250*s**3 + 144675*s**2 + 42255*s + 4204),                                 (1500*s**3 + 5200*s**2 + 5425*s + 1764)/(25000*s**5 + 122500*s**4 + 207250*s**3 + 144675*s**2 + 42255*s + 4204)],\n",
       "[                (15000*s**4 + 49500*s**3 + 51350*s**2 + 20905*s + 2849)/(25000*s**5 + 122500*s**4 + 207250*s**3 + 144675*s**2 + 42255*s + 4204),                               14*(500*s**3 + 1300*s**2 + 905*s + 168)/(25000*s**5 + 122500*s**4 + 207250*s**3 + 144675*s**2 + 42255*s + 4204),                                          14*(100*s**2 + 100*s + 21)/(25000*s**5 + 122500*s**4 + 207250*s**3 + 144675*s**2 + 42255*s + 4204), (25000*s**5 + 122500*s**4 + 215250*s**3 + 165475*s**2 + 55735*s + 6552)/(25000*s**5 + 122500*s**4 + 207250*s**3 + 144675*s**2 + 42255*s + 4204),                   10*(1000*s**4 + 3300*s**3 + 3750*s**2 + 1711*s + 252)/(25000*s**5 + 122500*s**4 + 207250*s**3 + 144675*s**2 + 42255*s + 4204)],\n",
       "[                               2*(2500*s**3 + 6600*s**2 + 4725*s + 931)/(25000*s**5 + 122500*s**4 + 207250*s**3 + 144675*s**2 + 42255*s + 4204),               4*(2500*s**4 + 10500*s**3 + 14475*s**2 + 7225*s + 1128)/(25000*s**5 + 122500*s**4 + 207250*s**3 + 144675*s**2 + 42255*s + 4204),                              4*(500*s**3 + 1300*s**2 + 815*s + 141)/(25000*s**5 + 122500*s**4 + 207250*s**3 + 144675*s**2 + 42255*s + 4204),                    10*(500*s**4 + 2100*s**3 + 3035*s**2 + 1713*s + 296)/(25000*s**5 + 122500*s**4 + 207250*s**3 + 144675*s**2 + 42255*s + 4204), (25000*s**5 + 122500*s**4 + 215250*s**3 + 165475*s**2 + 55855*s + 6636)/(25000*s**5 + 122500*s**4 + 207250*s**3 + 144675*s**2 + 42255*s + 4204)]])"
      ]
     },
     "execution_count": 82,
     "metadata": {},
     "output_type": "execute_result"
    }
   ],
   "source": [
    "# Sympy computation for H: \n",
    "H = (sym.eye(5)-Q_mat)**(-1)\n",
    "H_mat = simplify(H)\n",
    "H_mat"
   ]
  },
  {
   "cell_type": "code",
   "execution_count": 83,
   "metadata": {},
   "outputs": [
    {
     "data": {
      "text/plain": [
       "4.4007612802209857e-16"
      ]
     },
     "execution_count": 83,
     "metadata": {},
     "output_type": "execute_result"
    }
   ],
   "source": [
    "# Verify that H_mat*(I-Q_mat) = I \n",
    "a = np.arange(-1000, 1000, 10)*1j # These ought to reside on the imaginary axis\n",
    "f = lambdify(s, H_mat * (eye(5)-Q_mat) - eye(5), \"numpy\") # We ought to obtain the zero matrix\n",
    "abs(f(a).reshape(len(a)*(5**2))).max()"
   ]
  },
  {
   "cell_type": "code",
   "execution_count": 84,
   "metadata": {},
   "outputs": [],
   "source": [
    "w = sym.Symbol('w', real=True)"
   ]
  },
  {
   "cell_type": "code",
   "execution_count": 85,
   "metadata": {},
   "outputs": [
    {
     "name": "stdout",
     "output_type": "stream",
     "text": [
      "(0, 0):  \t (w_0, |h|(w_0)) = (-1.4848029872799015e-09, 1.5118934348239772)\n",
      "(0, 1):  \t (w_0, |h|(w_0)) = (1.8211032816222947e-11, 0.7764034253092292)\n",
      "(0, 2):  \t (w_0, |h|(w_0)) = (1.5460243347114294e-11, 0.09705042816365365)\n",
      "(0, 3):  \t (w_0, |h|(w_0)) = (-8.179041549820273e-10, 1.0199809705042817)\n",
      "(0, 4):  \t (w_0, |h|(w_0)) = (-1.5351703507991256e-09, 0.5461465271170314)\n",
      "(1, 0):  \t (w_0, |h|(w_0)) = (-5.0952239249195406e-11, 0.4362511893434824)\n",
      "(1, 1):  \t (w_0, |h|(w_0)) = (1.3231402562551094e-11, 1.598477640342531)\n",
      "(1, 2):  \t (w_0, |h|(w_0)) = (-1.4989583063489603e-09, 0.19980970504281637)\n",
      "(1, 3):  \t (w_0, |h|(w_0)) = (1.6922058545603395e-11, 0.4529019980970504)\n",
      "(1, 4):  \t (w_0, |h|(w_0)) = (-6.837281170472029e-11, 0.7126546146527117)\n",
      "(2, 0):  \t (w_0, |h|(w_0)) = (1.105265847343127e-11, 0.6493815413891532)\n",
      "(2, 1):  \t (w_0, |h|(w_0)) = (-2.2482760704179512e-10, 0.7916270218839201)\n",
      "(2, 2):  \t (w_0, |h|(w_0)) = (-9.125361815983478e-10, 1.09895337773549)\n",
      "(2, 3):  \t (w_0, |h|(w_0)) = (3.9689546092663574e-11, 0.49096098953377737)\n",
      "(2, 4):  \t (w_0, |h|(w_0)) = (-1.7903599491030893e-09, 0.4196003805899144)\n",
      "(3, 0):  \t (w_0, |h|(w_0)) = (-1.4347473525171853e-09, 0.6776879162702188)\n",
      "(3, 1):  \t (w_0, |h|(w_0)) = (1.6890273572918936e-11, 0.5594671741198858)\n",
      "(3, 2):  \t (w_0, |h|(w_0)) = (1.4876101142235573e-11, 0.06993339676498572)\n",
      "(3, 3):  \t (w_0, |h|(w_0)) = (-9.012567359729585e-10, 1.5585156993339677)\n",
      "(3, 4):  \t (w_0, |h|(w_0)) = (-1.2354813653134092e-09, 0.5994291151284491)\n",
      "(4, 0):  \t (w_0, |h|(w_0)) = (-4.021101581134632e-10, 0.4429115128449096)\n",
      "(4, 1):  \t (w_0, |h|(w_0)) = (-1.433162789110748e-09, 1.0732635585156993)\n",
      "(4, 2):  \t (w_0, |h|(w_0)) = (-1.4083489837479535e-11, 0.13415794481446242)\n",
      "(4, 3):  \t (w_0, |h|(w_0)) = (1.4104847138254258e-11, 0.7040913415794482)\n",
      "(4, 4):  \t (w_0, |h|(w_0)) = (-1.3245403959641692e-09, 1.5784966698382492)\n"
     ]
    }
   ],
   "source": [
    "from scipy.optimize import minimize_scalar\n",
    "\n",
    "optima = {}\n",
    "for i in range(H_mat.shape[0]):\n",
    "    for j in range(H_mat.shape[1]):\n",
    "        h  =  abs(H_mat[i,j].subs({s: I*w}))**2 # Substitute s = i w, then take |h|^2 (will be a Sympy function, maps R to R>=0)\n",
    "        h_python = sym.lambdify(w, h, 'numpy')# Converts the SymPy function to a Python function\n",
    "        result = minimize_scalar(lambda w: -h_python(w))# Use scipy.optimize.minimize_scalar to find the maximum\n",
    "        argmax = result.x # The argmax (the point at which the maximum occurs)\n",
    "        funmax = np.sqrt(-result.fun)\n",
    "        optima[(i,j)] = {'argmax': argmax, 'funmax': funmax} \n",
    "        print(f'{i,j}:  \\t (w_0, |h|(w_0)) = {(argmax, funmax)}')"
   ]
  },
  {
   "cell_type": "markdown",
   "metadata": {},
   "source": [
    "## Perturbing the (single) most vulnerable existing link"
   ]
  },
  {
   "cell_type": "code",
   "execution_count": 86,
   "metadata": {},
   "outputs": [
    {
     "data": {
      "text/plain": [
       "{(0, 1): {'argmax': 1.8211032816222947e-11, 'funmax': 0.7764034253092292},\n",
       " (0, 3): {'argmax': -8.179041549820273e-10, 'funmax': 1.0199809705042817},\n",
       " (1, 0): {'argmax': -5.0952239249195406e-11, 'funmax': 0.4362511893434824},\n",
       " (1, 2): {'argmax': -1.4989583063489603e-09, 'funmax': 0.19980970504281637},\n",
       " (1, 4): {'argmax': -6.837281170472029e-11, 'funmax': 0.7126546146527117},\n",
       " (2, 0): {'argmax': 1.105265847343127e-11, 'funmax': 0.6493815413891532},\n",
       " (2, 1): {'argmax': -2.2482760704179512e-10, 'funmax': 0.7916270218839201},\n",
       " (3, 0): {'argmax': -1.4347473525171853e-09, 'funmax': 0.6776879162702188},\n",
       " (3, 4): {'argmax': -1.2354813653134092e-09, 'funmax': 0.5994291151284491},\n",
       " (4, 1): {'argmax': -1.433162789110748e-09, 'funmax': 1.0732635585156993},\n",
       " (4, 3): {'argmax': 1.4104847138254258e-11, 'funmax': 0.7040913415794482}}"
      ]
     },
     "execution_count": 86,
     "metadata": {},
     "output_type": "execute_result"
    }
   ],
   "source": [
    "# In the context of an existing link perturbation, we ignore all the links that are represented as 0 in Q_mat.\n",
    "keep_optima = {(i,j):v for ((i,j), v )in optima.items() if Q_mat[i,j] != 0}\n",
    "keep_optima            "
   ]
  },
  {
   "cell_type": "code",
   "execution_count": 87,
   "metadata": {},
   "outputs": [
    {
     "data": {
      "text/plain": [
       "[(4, 1, -1.433162789110748e-09, 1.0732635585156993),\n",
       " (0, 3, -8.179041549820273e-10, 1.0199809705042817),\n",
       " (2, 1, -2.2482760704179512e-10, 0.7916270218839201),\n",
       " (0, 1, 1.8211032816222947e-11, 0.7764034253092292),\n",
       " (1, 4, -6.837281170472029e-11, 0.7126546146527117),\n",
       " (4, 3, 1.4104847138254258e-11, 0.7040913415794482),\n",
       " (3, 0, -1.4347473525171853e-09, 0.6776879162702188),\n",
       " (2, 0, 1.105265847343127e-11, 0.6493815413891532),\n",
       " (3, 4, -1.2354813653134092e-09, 0.5994291151284491),\n",
       " (1, 0, -5.0952239249195406e-11, 0.4362511893434824),\n",
       " (1, 2, -1.4989583063489603e-09, 0.19980970504281637)]"
      ]
     },
     "execution_count": 87,
     "metadata": {},
     "output_type": "execute_result"
    }
   ],
   "source": [
    "sorted([(i,j, v[\"argmax\"], v[\"funmax\"]) for ((i,j), v) in keep_optima.items() ], reverse=True, key = lambda x: x[-1])"
   ]
  },
  {
   "cell_type": "code",
   "execution_count": 88,
   "metadata": {},
   "outputs": [],
   "source": [
    "# We see that the existing link (i,j) that is most vulnerable (highest \\|H_{i,j}\\|) has index:\n",
    "i = 4\n",
    "j = 1\n",
    "omega_0 = 0"
   ]
  },
  {
   "cell_type": "markdown",
   "metadata": {},
   "source": [
    "The most vulnerable existing-link has index (4,1) (recall that Python indexing begins at 0). This signifies that the perturbation will observe the sentiment of Agent 5 and influence the sentiment of Agent 2."
   ]
  },
  {
   "cell_type": "code",
   "execution_count": 89,
   "metadata": {},
   "outputs": [
    {
     "data": {
      "text/latex": [
       "$\\displaystyle \\frac{1128}{1051}$"
      ],
      "text/plain": [
       "1128/1051"
      ]
     },
     "execution_count": 89,
     "metadata": {},
     "output_type": "execute_result"
    }
   ],
   "source": [
    "# For the vunerable link, compute its norm and find the phase.\n",
    "h_val = H_mat[i,j].subs({s:omega_0*I}).simplify()\n",
    "h_val"
   ]
  },
  {
   "cell_type": "code",
   "execution_count": 90,
   "metadata": {},
   "outputs": [
    {
     "data": {
      "text/plain": [
       "0.00026355851569936917"
      ]
     },
     "execution_count": 90,
     "metadata": {},
     "output_type": "execute_result"
    }
   ],
   "source": [
    "1128/1051 - 1.073 # This ought to evaluate as approximately 0."
   ]
  },
  {
   "cell_type": "markdown",
   "metadata": {},
   "source": [
    "We propose $\\delta = \\frac{(1-s)^2}{r(s+1)^2} = \\frac{1051(1-s)}{1128(s+1)}$ where $r= \\|H[4,1]\\| = 1128/1051 ~= 1.073$. We proceed to construct $\\Delta \\in \\mathbb{C}^{5\\times5}$ satisfying:\n",
    "- $[\\Delta]_{ji} = \\delta(s)$.\n",
    "- $\\Delta$ is analytic on $\\mathbb{C}^{+}$.\n",
    "- $\\|\\Delta \\| = \\Delta(s=i\\omega_0) = 1/r$ (minimal norm). \n",
    "- $\\|\\Delta\\|_{H^{\\infty}} < \\infty$.\n",
    "- The system is destabilized (an eigenvalue of $\\Delta$ satisfies $\\lambda \\gtrapprox 0$).\n",
    "    "
   ]
  },
  {
   "cell_type": "code",
   "execution_count": 91,
   "metadata": {},
   "outputs": [
    {
     "data": {
      "text/latex": [
       "$\\displaystyle \\left[\\begin{matrix}0 & 0 & 0 & 0 & 0\\\\0 & 0 & 0 & 0 & \\frac{0.932669326241135 \\left(1 - s\\right)^{2}}{\\left(s + 1\\right)^{2}}\\\\0 & 0 & 0 & 0 & 0\\\\0 & 0 & 0 & 0 & 0\\\\0 & 0 & 0 & 0 & 0\\end{matrix}\\right]$"
      ],
      "text/plain": [
       "Matrix([\n",
       "[0, 0, 0, 0,                                       0],\n",
       "[0, 0, 0, 0, 0.932669326241135*(1 - s)**2/(s + 1)**2],\n",
       "[0, 0, 0, 0,                                       0],\n",
       "[0, 0, 0, 0,                                       0],\n",
       "[0, 0, 0, 0,                                       0]])"
      ]
     },
     "execution_count": 91,
     "metadata": {},
     "output_type": "execute_result"
    }
   ],
   "source": [
    "s, t = sym.symbols('s, t')\n",
    "Delta = sym.zeros(5)\n",
    "Delta[j,i] = (1+.001)*((1051)*(1-s)**2)/(1128 * (1+s)**2) # We introduce (1 + \\epsilon) to obtain a slightly super-minimal case.\n",
    "Delta"
   ]
  },
  {
   "cell_type": "markdown",
   "metadata": {},
   "source": [
    "We proceed to unwind the DSF and interpret the effect of the perturbation on the original system. Here since $x = y$ and $Bu = u$, $B = I$ we have that $Q = A$, $D = diag(A)$. This is described by:\n",
    "\\begin{align*}\n",
    "&&Y &= (Q + \\Delta)Y + PU \\nonumber \\\\\n",
    "&&&= (sI - D)^{-1}[((A - D) + (sI - D)\\Delta)Y + U] \\nonumber \\\\\n",
    "&\\implies &sY &= AY + (sI - D)(\\Delta)Y + U \\nonumber \\\\\n",
    "\\end{align*}"
   ]
  },
  {
   "cell_type": "code",
   "execution_count": 92,
   "metadata": {},
   "outputs": [
    {
     "data": {
      "text/latex": [
       "$\\displaystyle \\left[\\begin{matrix}0 & 0 & 0 & 0 & 0\\\\0 & 0 & 0 & 0 & \\frac{0.932669326241135 \\left(1 - s\\right)^{2} \\left(s + \\frac{8}{5}\\right)}{\\left(s + 1\\right)^{2}}\\\\0 & 0 & 0 & 0 & 0\\\\0 & 0 & 0 & 0 & 0\\\\0 & 0 & 0 & 0 & 0\\end{matrix}\\right]$"
      ],
      "text/plain": [
       "Matrix([\n",
       "[0, 0, 0, 0,                                                 0],\n",
       "[0, 0, 0, 0, 0.932669326241135*(1 - s)**2*(s + 8/5)/(s + 1)**2],\n",
       "[0, 0, 0, 0,                                                 0],\n",
       "[0, 0, 0, 0,                                                 0],\n",
       "[0, 0, 0, 0,                                                 0]])"
      ]
     },
     "execution_count": 92,
     "metadata": {},
     "output_type": "execute_result"
    }
   ],
   "source": [
    "MAT = (s*eye(5)-D_mat)*Delta\n",
    "MAT"
   ]
  },
  {
   "cell_type": "code",
   "execution_count": 93,
   "metadata": {},
   "outputs": [
    {
     "data": {
      "text/latex": [
       "$\\displaystyle 0.932669326241135 s - 2.23840638297872 + \\frac{1.49227092198582}{s + 1} + \\frac{2.23840638297872}{\\left(s + 1\\right)^{2}}$"
      ],
      "text/plain": [
       "0.932669326241135*s - 2.23840638297872 + 1.49227092198582/(s + 1) + 2.23840638297872/(s + 1)**2"
      ]
     },
     "execution_count": 93,
     "metadata": {},
     "output_type": "execute_result"
    }
   ],
   "source": [
    "apart(MAT[j,i])"
   ]
  },
  {
   "cell_type": "code",
   "execution_count": 94,
   "metadata": {},
   "outputs": [
    {
     "data": {
      "text/latex": [
       "$\\displaystyle 0.932669326241135 s - 2.23840638297872 + \\frac{1.49227092198582}{s + 1.0} + \\frac{2.23840638297872}{\\left(s + 1.0\\right)^{2}}$"
      ],
      "text/plain": [
       "0.932669326241135*s - 2.23840638297872 + 1.49227092198582/(s + 1.0) + 2.23840638297872/(s + 1.0)**2"
      ]
     },
     "execution_count": 94,
     "metadata": {},
     "output_type": "execute_result"
    }
   ],
   "source": [
    "apart(MAT[j,i]).n()"
   ]
  },
  {
   "cell_type": "markdown",
   "metadata": {},
   "source": [
    "(Now counting from 1 to 5): so our $\\dot{x_2}$ becomes: \n",
    "\\begin{align*}\n",
    "& .2x_1 -1.6x_2 + .2x_3 + .6 x_5 + \\text{new terms}\\\\ \n",
    "=& .2x_1 -1.6x_2 + .2x_3 + .6 x_5 +  (1051)/(1128)\\dot{x_5} - (1051 / 470) x_5  + (1051 / 705) (e^{-t}*x_5)+ (1051 / 470)(te^{-t}*x_5)\\\\\n",
    "=& .2x_1 -1.6x_2 + .2x_3 + .6 x_5 +  (1051)/(1128)[.4x_2+.2x_4 -.7x_5] - (1051 / 470) x_5  + (1051 / 705) (e^{-t}*x_5)+ (1051 / 470)(te^{-t}*x_5)\n",
    "\\end{align*}"
   ]
  },
  {
   "cell_type": "code",
   "execution_count": 95,
   "metadata": {},
   "outputs": [],
   "source": [
    "A_mat_new = np.hstack([np.vstack([A[0,:], A[1,:] + (0.932669326241135)*A[-1,:] - [0,0,0,0,2.23840638297872], A[2:], [0,0,0,0,1], [0,0,0,0,0]]), np.array([0,1.49227092198582,0,0,0,-1,1]).reshape(7,1), np.array([0,2.23840638297872,0,0,0,0,-1]).reshape(7,1)])"
   ]
  },
  {
   "cell_type": "code",
   "execution_count": 96,
   "metadata": {},
   "outputs": [
    {
     "data": {
      "text/latex": [
       "$\\displaystyle \\left[\\begin{matrix}-0.7 & 0.2 & 0 & 0.4 & 0 & 0 & 0\\\\0.2 & -1.22693226950355 & 0.2 & 0.186533865248227 & -2.29127491134751 & 1.49227092198582 & 2.23840638297872\\\\0.1 & 0.1 & -0.3 & 0 & 0 & 0 & 0\\\\0.6 & 0 & 0 & -1.6 & 0.4 & 0 & 0\\\\0 & 0.4 & 0 & 0.2 & -0.7 & 0 & 0\\\\0 & 0 & 0 & 0 & 1.0 & -1.0 & 0\\\\0 & 0 & 0 & 0 & 0 & 1.0 & -1.0\\end{matrix}\\right]$"
      ],
      "text/plain": [
       "Matrix([\n",
       "[-0.7,               0.2,    0,               0.4,                 0,                0,                0],\n",
       "[ 0.2, -1.22693226950355,  0.2, 0.186533865248227, -2.29127491134751, 1.49227092198582, 2.23840638297872],\n",
       "[ 0.1,               0.1, -0.3,                 0,                 0,                0,                0],\n",
       "[ 0.6,                 0,    0,              -1.6,               0.4,                0,                0],\n",
       "[   0,               0.4,    0,               0.2,              -0.7,                0,                0],\n",
       "[   0,                 0,    0,                 0,               1.0,             -1.0,                0],\n",
       "[   0,                 0,    0,                 0,                 0,              1.0,             -1.0]])"
      ]
     },
     "execution_count": 96,
     "metadata": {},
     "output_type": "execute_result"
    }
   ],
   "source": [
    "# round_expr(sym.Matrix(A_mat_new))\n",
    "sym.Matrix(A_mat_new)"
   ]
  },
  {
   "cell_type": "code",
   "execution_count": 97,
   "metadata": {},
   "outputs": [
    {
     "name": "stdout",
     "output_type": "stream",
     "text": [
      "-1.12365558635965 - 1.17479062096381*I\n",
      "-1.12365558635965 + 1.17479062096381*I\n",
      "0.000130740802974091\n",
      "-0.307732606028666\n",
      "-0.538031577729211\n",
      "-1.80943884219232\n",
      "-1.62454881163703\n"
     ]
    }
   ],
   "source": [
    "for k in Matrix(A_mat_new).eigenvals().keys(): \n",
    "    # print(round_expr(k))\n",
    "    print(k)"
   ]
  },
  {
   "cell_type": "markdown",
   "metadata": {},
   "source": [
    "We have a small positive eigenvalue (orders of magnitude larger than before the perturbation was applied), so the perturbation away from zero was successful."
   ]
  },
  {
   "cell_type": "markdown",
   "metadata": {},
   "source": [
    "## Consider perturbing the (single) most vulnerable link\n",
    "\n",
    "We proceed to investigate the minimal created-link perturbation. This differs from the previous case in that we are no longer constrained to the modification of network links that already materially exist."
   ]
  },
  {
   "cell_type": "code",
   "execution_count": 98,
   "metadata": {},
   "outputs": [
    {
     "data": {
      "text/plain": [
       "[(1, 1, 1.3231402562551094e-11, 1.598477640342531),\n",
       " (4, 4, -1.3245403959641692e-09, 1.5784966698382492),\n",
       " (3, 3, -9.012567359729585e-10, 1.5585156993339677),\n",
       " (0, 0, -1.4848029872799015e-09, 1.5118934348239772),\n",
       " (2, 2, -9.125361815983478e-10, 1.09895337773549),\n",
       " (4, 1, -1.433162789110748e-09, 1.0732635585156993),\n",
       " (0, 3, -8.179041549820273e-10, 1.0199809705042817),\n",
       " (2, 1, -2.2482760704179512e-10, 0.7916270218839201),\n",
       " (0, 1, 1.8211032816222947e-11, 0.7764034253092292),\n",
       " (1, 4, -6.837281170472029e-11, 0.7126546146527117),\n",
       " (4, 3, 1.4104847138254258e-11, 0.7040913415794482),\n",
       " (3, 0, -1.4347473525171853e-09, 0.6776879162702188),\n",
       " (2, 0, 1.105265847343127e-11, 0.6493815413891532),\n",
       " (3, 4, -1.2354813653134092e-09, 0.5994291151284491),\n",
       " (3, 1, 1.6890273572918936e-11, 0.5594671741198858),\n",
       " (0, 4, -1.5351703507991256e-09, 0.5461465271170314),\n",
       " (2, 3, 3.9689546092663574e-11, 0.49096098953377737),\n",
       " (1, 3, 1.6922058545603395e-11, 0.4529019980970504),\n",
       " (4, 0, -4.021101581134632e-10, 0.4429115128449096),\n",
       " (1, 0, -5.0952239249195406e-11, 0.4362511893434824),\n",
       " (2, 4, -1.7903599491030893e-09, 0.4196003805899144),\n",
       " (1, 2, -1.4989583063489603e-09, 0.19980970504281637),\n",
       " (4, 2, -1.4083489837479535e-11, 0.13415794481446242),\n",
       " (0, 2, 1.5460243347114294e-11, 0.09705042816365365),\n",
       " (3, 2, 1.4876101142235573e-11, 0.06993339676498572)]"
      ]
     },
     "execution_count": 98,
     "metadata": {},
     "output_type": "execute_result"
    }
   ],
   "source": [
    "# Determine the link (i,j) with maximal norm \\|H(i,j)\\|, and the \\argmax{s} = i\\omega_0\n",
    "sorted([(i,j, v[\"argmax\"], v[\"funmax\"]) for ((i,j), v) in optima.items() ], reverse=True, key = lambda x: x[-1])"
   ]
  },
  {
   "cell_type": "code",
   "execution_count": 99,
   "metadata": {},
   "outputs": [],
   "source": [
    "# We see that the link (i,j) that is most vulnerable (maximal \\|H{i,j}\\|) has index\n",
    "i = 1\n",
    "j = 1\n",
    "omega_0 = 0"
   ]
  },
  {
   "cell_type": "markdown",
   "metadata": {},
   "source": [
    "The most vulnerable existing-link has index (1,1) (recall that Python indexing begins at 0). This signifies that the perturbation will observe the sentiment of Agent 2 and influence the sentiment of Agent 2. The perturbation will alter the self-influence of Agent-2!"
   ]
  },
  {
   "cell_type": "code",
   "execution_count": 100,
   "metadata": {},
   "outputs": [
    {
     "data": {
      "text/latex": [
       "$\\displaystyle \\frac{1680}{1051}$"
      ],
      "text/plain": [
       "1680/1051"
      ]
     },
     "execution_count": 100,
     "metadata": {},
     "output_type": "execute_result"
    }
   ],
   "source": [
    "# For the vunerable link, compute its norm and find the phase.\n",
    "h_val = H_mat[i,j].subs({s:omega_0*I}).simplify()\n",
    "h_val"
   ]
  },
  {
   "cell_type": "code",
   "execution_count": 101,
   "metadata": {},
   "outputs": [
    {
     "data": {
      "text/plain": [
       "0.0004776403425308384"
      ]
     },
     "execution_count": 101,
     "metadata": {},
     "output_type": "execute_result"
    }
   ],
   "source": [
    "1680/1051 - 1.598 # Ought to be approximately 0"
   ]
  },
  {
   "cell_type": "markdown",
   "metadata": {},
   "source": [
    "We can use $\\delta = \\frac{(1-s)^2}{r(s+1)^2} = \\frac{1051(1-s)}{1680(s+1)}$ where $r:= \\|H[1,1]\\| = 1680/1051 ~= 1.598$. We proceed to construct $\\Delta \\in \\mathbb{C}^{5\\times5}$ satisfying:\n",
    "\n",
    "- $[\\Delta]_{ji} = \\delta(s)$.\n",
    "- $\\Delta$ is analytic on $\\mathbb{C}^{+}$.\n",
    "- $\\|\\Delta \\| = \\Delta(s=i\\omega_0) = 1/r$ (minimal norm). \n",
    "- $\\|\\Delta\\|_{H^{\\infty}} < \\infty$.\n",
    "- The system is destabilized (an eigenvalue of $\\Delta$ satisfies $\\lambda \\gtrapprox 0$)."
   ]
  },
  {
   "cell_type": "code",
   "execution_count": 102,
   "metadata": {},
   "outputs": [
    {
     "data": {
      "text/latex": [
       "$\\displaystyle \\frac{0.626220833333333 \\left(1 - s\\right)^{2} \\cdot \\left(1.0 s + 1.6\\right)}{\\left(s + 1\\right)^{2}}$"
      ],
      "text/plain": [
       "0.626220833333333*(1 - s)**2*(1.0*s + 1.6)/(s + 1)**2"
      ]
     },
     "execution_count": 102,
     "metadata": {},
     "output_type": "execute_result"
    }
   ],
   "source": [
    "s = sym.symbols('s')\n",
    "lc_max_ind = (1, 1)\n",
    "\n",
    "delta = (1+.001)*((1051)*(1-s)**2)/(1680*(1+s)**2) # We introduce (1 + \\epsilon) to obtain a slightly super-minimal case.\n",
    "\n",
    "Delta = ((s*np.eye(A.shape[0]) - np.diagflat(A.diagonal()))*delta)[lc_max_ind[1], lc_max_ind[0]]\n",
    "Delta"
   ]
  },
  {
   "cell_type": "code",
   "execution_count": 103,
   "metadata": {},
   "outputs": [
    {
     "data": {
      "text/latex": [
       "$\\displaystyle 0.626220833333333 s - 1.50293 + \\frac{1.00195333333333}{s + 1} + \\frac{1.50293}{\\left(s + 1\\right)^{2}}$"
      ],
      "text/plain": [
       "0.626220833333333*s - 1.50293 + 1.00195333333333/(s + 1) + 1.50293/(s + 1)**2"
      ]
     },
     "execution_count": 103,
     "metadata": {},
     "output_type": "execute_result"
    }
   ],
   "source": [
    "apart(Delta)"
   ]
  },
  {
   "cell_type": "code",
   "execution_count": 104,
   "metadata": {},
   "outputs": [
    {
     "data": {
      "text/latex": [
       "$\\displaystyle \\frac{626220833333333 s}{1000000000000000} - \\frac{150293}{100000} + \\frac{100195333333333}{100000000000000 \\left(s + 1\\right)} + \\frac{150293}{100000 \\left(s + 1\\right)^{2}}$"
      ],
      "text/plain": [
       "626220833333333*s/1000000000000000 - 150293/100000 + 100195333333333/(100000000000000*(s + 1)) + 150293/(100000*(s + 1)**2)"
      ]
     },
     "execution_count": 104,
     "metadata": {},
     "output_type": "execute_result"
    }
   ],
   "source": [
    "nsimplify(apart(Delta))"
   ]
  },
  {
   "cell_type": "markdown",
   "metadata": {},
   "source": [
    "These are not nice fractions."
   ]
  },
  {
   "cell_type": "code",
   "execution_count": 105,
   "metadata": {},
   "outputs": [],
   "source": [
    "perturb_row = (1/(1-0.626220833333333))*(A[1,:] + [0,-1.50293,0,0,0]) # Careful here\n",
    "A_perturb = np.hstack([np.vstack([A[0,:], perturb_row, A[2:], [0,1,0,0,0], [0,0,0,0,0]]), np.array([0,(1/(1-0.626220833333333))*1.00195333333333,0,0,0,-1,1]).reshape(7,1), np.array([0,(1/(1-0.626220833333333))*1.50293,0,0,0,0,-1]).reshape(7,1)])"
   ]
  },
  {
   "cell_type": "code",
   "execution_count": 106,
   "metadata": {},
   "outputs": [
    {
     "data": {
      "text/latex": [
       "$\\displaystyle \\left[\\begin{matrix}-0.7 & 0.2 & 0 & 0.4 & 0 & 0 & 0\\\\0.535075300701171 & -8.30150601402343 & 0.535075300701171 & 0 & 1.60522590210351 & 2.68060240560936 & 4.02090360841406\\\\0.1 & 0.1 & -0.3 & 0 & 0 & 0 & 0\\\\0.6 & 0 & 0 & -1.6 & 0.4 & 0 & 0\\\\0 & 0.4 & 0 & 0.2 & -0.7 & 0 & 0\\\\0 & 1.0 & 0 & 0 & 0 & -1.0 & 0\\\\0 & 0 & 0 & 0 & 0 & 1.0 & -1.0\\end{matrix}\\right]$"
      ],
      "text/plain": [
       "Matrix([\n",
       "[             -0.7,               0.2,                 0,  0.4,                0,                0,                0],\n",
       "[0.535075300701171, -8.30150601402343, 0.535075300701171,    0, 1.60522590210351, 2.68060240560936, 4.02090360841406],\n",
       "[              0.1,               0.1,              -0.3,    0,                0,                0,                0],\n",
       "[              0.6,                 0,                 0, -1.6,              0.4,                0,                0],\n",
       "[                0,               0.4,                 0,  0.2,             -0.7,                0,                0],\n",
       "[                0,               1.0,                 0,    0,                0,             -1.0,                0],\n",
       "[                0,                 0,                 0,    0,                0,              1.0,             -1.0]])"
      ]
     },
     "execution_count": 106,
     "metadata": {},
     "output_type": "execute_result"
    }
   ],
   "source": [
    "\n",
    "# round_expr(sym.Matrix(A_mat_new))\n",
    "Matrix(A_perturb)"
   ]
  },
  {
   "cell_type": "code",
   "execution_count": 107,
   "metadata": {},
   "outputs": [
    {
     "name": "stdout",
     "output_type": "stream",
     "text": [
      "-8.68269356682205\n",
      "0.000172681198270726\n",
      "-0.319613904299335\n",
      "-0.451590228223006\n",
      "-0.706411409322067\n",
      "-1.85419328015300\n",
      "-1.58717630640224\n"
     ]
    }
   ],
   "source": [
    "# Eigenvalues\n",
    "for k in Matrix(A_perturb).eigenvals().keys(): \n",
    "    # print(round_expr(k))\n",
    "    print(k)"
   ]
  },
  {
   "cell_type": "markdown",
   "metadata": {},
   "source": [
    "We have a small positive eigenvalue (orders of magnitude larger than before), so the perturbation away from zero was successful."
   ]
  },
  {
   "cell_type": "markdown",
   "metadata": {},
   "source": [
    "# Plotting"
   ]
  },
  {
   "cell_type": "code",
   "execution_count": 108,
   "metadata": {},
   "outputs": [],
   "source": [
    "viridis = sns.color_palette(\"viridis\", 10)\n",
    "plasma_r = sns.color_palette(\"plasma_r\", 10)\n",
    "autumn = sns.color_palette(palette='autumn', n_colors = 10)\n",
    "spring = sns.color_palette(palette='spring', n_colors = 10)\n",
    "winter =sns.color_palette(palette='winter', n_colors = 10)"
   ]
  },
  {
   "cell_type": "markdown",
   "metadata": {},
   "source": [
    "## Stable System"
   ]
  },
  {
   "cell_type": "code",
   "execution_count": 109,
   "metadata": {},
   "outputs": [],
   "source": [
    "def ode(x, t): \n",
    "    a = x[0]\n",
    "    b = x[1]\n",
    "    c = x[2]\n",
    "    d = x[3]\n",
    "    e = x[4]\n",
    "    \n",
    "    adot = -.7*a + .2*b + .4*d - .1\n",
    "    bdot = .2*a - 1.6*b + .2*c + .6*e + .4\n",
    "    cdot = .1*a + .1*b - .3*c - .1\n",
    "    ddot = .6*a - 1.6*d + .4*e + .4\n",
    "    edot = .4*b + .2*d - .7*e - .1\n",
    "\n",
    "    return adot, bdot, cdot, ddot, edot"
   ]
  },
  {
   "cell_type": "code",
   "execution_count": 110,
   "metadata": {},
   "outputs": [
    {
     "data": {
      "text/plain": [
       "array([ 0.12274025,  0.28211227, -0.19838249,  0.3237393 ,  0.11084681])"
      ]
     },
     "execution_count": 110,
     "metadata": {},
     "output_type": "execute_result"
    }
   ],
   "source": [
    "# Equilibrium: \n",
    "xe = xs[-1]\n",
    "xe"
   ]
  },
  {
   "cell_type": "code",
   "execution_count": 111,
   "metadata": {},
   "outputs": [
    {
     "data": {
      "text/plain": [
       "(9.485953689214455e-12,\n",
       " 3.8439251781596795e-12,\n",
       " 1.7417900455285462e-11,\n",
       " 1.4516166046973922e-12,\n",
       " 9.954995161542968e-12)"
      ]
     },
     "execution_count": 111,
     "metadata": {},
     "output_type": "execute_result"
    }
   ],
   "source": [
    "ode(xe, 1) # Should be 0 vector"
   ]
  },
  {
   "cell_type": "markdown",
   "metadata": {},
   "source": [
    "### Plotting"
   ]
  },
  {
   "cell_type": "code",
   "execution_count": 112,
   "metadata": {},
   "outputs": [
    {
     "data": {
      "image/png": "[encoded data removed]",
      "text/plain": [
       "<Figure size 640x480 with 1 Axes>"
      ]
     },
     "metadata": {},
     "output_type": "display_data"
    }
   ],
   "source": [
    "ts = np.linspace(0, 100, 1000) # Start, end, steps\n",
    "x0 = [.5, .5, 0, -.5, -.5]\n",
    "\n",
    "xs = sci.integrate.odeint(ode, x0, ts)\n",
    "\n",
    "ax = plt.gca()\n",
    "ax.set_xlim([0, 100])\n",
    "ax.set_ylim([-1, 1])\n",
    "\n",
    "plt.plot(ts, (xs[:,0]), label = \"Agent 1\", color=viridis[-4])\n",
    "plt.plot(ts, (xs[:,1]), label = \"Agent 2\", color=autumn[-4])\n",
    "plt.plot(ts, (xs[:,2]), label = \"Agent 3\", color=autumn[0])\n",
    "plt.plot(ts, (xs[:,3]), label = \"Agent 4\", color=viridis[3])\n",
    "plt.plot(ts, (xs[:,4]), label = \"Agent 5\", color=plasma_r[-4])\n",
    "\n",
    "plt.xlabel(\"Time\")\n",
    "plt.ylabel(\"Unnormalized Sentiment\")\n",
    "plt.legend()\n",
    "plt.title('Stable Sentiment Evolution')\n",
    "plt.show()"
   ]
  },
  {
   "cell_type": "markdown",
   "metadata": {},
   "source": [
    "## Existing Link Perturbation"
   ]
  },
  {
   "cell_type": "markdown",
   "metadata": {},
   "source": [
    "### (Super-minimal perturbation)"
   ]
  },
  {
   "cell_type": "code",
   "execution_count": 113,
   "metadata": {},
   "outputs": [],
   "source": [
    "def perturbed_ode(x, t): # Toggle existence of t variable depending on usage\n",
    "    a = x[0]\n",
    "    b = x[1]\n",
    "    c = x[2]\n",
    "    d = x[3]\n",
    "    e = x[4]\n",
    "    f = x[5]\n",
    "    g = x[6]\n",
    "    \n",
    "    adot = -.7*a + .2*b + .4*d - .1\n",
    "    bdot = .2*a - 1.22693226950355*b + .2*c + 0.186533865248227*d - 2.29127491134751*e + 1.49227092198582*f + 2.23840638297872*g + .4\n",
    "    cdot = .1*a + .1*b - .3*c - .1\n",
    "    ddot = .6*a - 1.6*d + .4*e + .4\n",
    "    edot = .4*b + .2*d - .7*e - .1\n",
    "    fdot = e - f\n",
    "    gdot = f - g\n",
    "    \n",
    "    return adot, bdot, cdot, ddot, edot, fdot ,gdot"
   ]
  },
  {
   "cell_type": "markdown",
   "metadata": {},
   "source": [
    "### Plotting"
   ]
  },
  {
   "cell_type": "code",
   "execution_count": 114,
   "metadata": {},
   "outputs": [
    {
     "data": {
      "image/png": "[encoded data removed]",
      "text/plain": [
       "<Figure size 640x480 with 1 Axes>"
      ]
     },
     "metadata": {},
     "output_type": "display_data"
    }
   ],
   "source": [
    "ts = np.linspace(0, 100, 1000) # Start, end, steps\n",
    "x0 = [.5, .5, 0, -.5, -.5, 0, 0] # f(0) = ? g(0) = ? I think the convolution terms 0 out at t=0.\n",
    "\n",
    "xs = sci.integrate.odeint(perturbed_ode, x0, ts)\n",
    "\n",
    "ax = plt.gca()\n",
    "ax.set_xlim([0, 100])\n",
    "ax.set_ylim([-1, 1])\n",
    "\n",
    "plt.plot(ts, (xs[:,0]), label = \"Agent 1\", color=viridis[-4])\n",
    "plt.plot(ts, (xs[:,1]), label = \"Agent 2\", color=autumn[-4]) # Agent 2 peaks around 40000, everyone then crashes out to 0 (under original initial condition)\n",
    "plt.plot(ts, (xs[:,2]), label = \"Agent 3\", color=autumn[0])\n",
    "plt.plot(ts, (xs[:,3]), label = \"Agent 4\", color=viridis[3])\n",
    "plt.plot(ts, (xs[:,4]), label = \"Agent 5\", color=plasma_r[-4])\n",
    "\n",
    "plt.xlabel(\"Time\")\n",
    "plt.ylabel(\"Unnormalized Sentiment\")\n",
    "plt.legend()\n",
    "plt.title('Perturbed Sentiment Evolution (Existing Link)')\n",
    "plt.show()"
   ]
  },
  {
   "cell_type": "markdown",
   "metadata": {},
   "source": [
    "## Link Creation Perturbation"
   ]
  },
  {
   "cell_type": "markdown",
   "metadata": {},
   "source": [
    "### (Super-minimal perturbation)"
   ]
  },
  {
   "cell_type": "code",
   "execution_count": 115,
   "metadata": {},
   "outputs": [],
   "source": [
    "def super_perturbed_ode(x, t): # Toggle existence of t variable depending on usage\n",
    "    a = x[0]\n",
    "    b = x[1]\n",
    "    c = x[2]\n",
    "    d = x[3]\n",
    "    e = x[4]\n",
    "    f = x[5]\n",
    "    g = x[6]\n",
    "    \n",
    "    adot = -.7*a + .2*b + .4*d - .1\n",
    "    bdot = 0.535075300701171*a - 8.30150601402343*b + 0.535075300701171*c  + 1.60522590210351*e + 2.68060240560936*f + 4.02090360841406*g + .4\n",
    "    cdot = .1*a + .1*b - .3*c - .1\n",
    "    ddot = .6*a - 1.6*d + .4*e + .4\n",
    "    edot = .4*b + .2*d - .7*e - .1\n",
    "    fdot = b - f\n",
    "    gdot = f - g\n",
    "    \n",
    "    return adot, bdot, cdot, ddot, edot, fdot ,gdot\n"
   ]
  },
  {
   "cell_type": "markdown",
   "metadata": {},
   "source": [
    "### Plotting"
   ]
  },
  {
   "cell_type": "code",
   "execution_count": 116,
   "metadata": {},
   "outputs": [
    {
     "data": {
      "image/png": "[encoded data removed]",
      "text/plain": [
       "<Figure size 640x480 with 1 Axes>"
      ]
     },
     "metadata": {},
     "output_type": "display_data"
    }
   ],
   "source": [
    "ts = np.linspace(0, 100, 100000) # Start, end, steps\n",
    "x0 = [.5, .5, 0, -.5, -.5, 0, 0] # f(0) = ? g(0) = ? I think the convolution terms 0 out at t=0 no matter the initial condition of concern (the convolved variable).\n",
    "\n",
    "xs = sci.integrate.odeint(super_perturbed_ode, x0, ts)\n",
    "\n",
    "ax = plt.gca()\n",
    "ax.set_xlim([0, 100])\n",
    "ax.set_ylim([-1, 1])\n",
    "\n",
    "plt.plot(ts, (xs[:,0]), label = \"Agent 1\", color=viridis[-4])\n",
    "plt.plot(ts, (xs[:,1]), label = \"Agent 2\", color=autumn[-4]) # Agent 2 peaks around 40000, everyone then crashe out to 0 (under original initial condition)\n",
    "plt.plot(ts, (xs[:,2]), label = \"Agent 3\", color=autumn[0])\n",
    "plt.plot(ts, (xs[:,3]), label = \"Agent 4\", color=viridis[3])\n",
    "plt.plot(ts, (xs[:,4]), label = \"Agent 5\", color=plasma_r[-4])\n",
    "\n",
    "plt.xlabel(\"Time\")\n",
    "plt.ylabel(\"Unnormalized Sentiment\")\n",
    "plt.legend()\n",
    "plt.title('Perturbed Sentiment Evolution (Created Link)')\n",
    "plt.show()"
   ]
  }
 ],
 "metadata": {
  "kernelspec": {
   "display_name": "base",
   "language": "python",
   "name": "python3"
  },
  "language_info": {
   "codemirror_mode": {
    "name": "ipython",
    "version": 3
   },
   "file_extension": ".py",
   "mimetype": "text/x-python",
   "name": "python",
   "nbconvert_exporter": "python",
   "pygments_lexer": "ipython3",
   "version": "3.11.7"
  }
 },
 "nbformat": 4,
 "nbformat_minor": 2
}
